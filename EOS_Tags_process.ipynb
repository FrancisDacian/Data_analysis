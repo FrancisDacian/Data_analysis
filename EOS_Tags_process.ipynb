{
 "cells": [
  {
   "cell_type": "code",
   "execution_count": 26,
   "metadata": {},
   "outputs": [],
   "source": [
    "import pandas as pd\n",
    "import numpy as np\n",
    "from collections import Counter\n",
    "\n",
    "tags_raw_data = pd.read_excel('EOS_tags.xls')\n",
    "#read excel file to dataframe\n",
    "\n",
    "tags_train_data = np.array(tags_raw_data)\n",
    "#transfer dataframe to array\n",
    "\n",
    "tags_data_lists = tags_train_data.tolist()\n",
    "#transfer array to lists(double)\n",
    "\n",
    "tags_data_list = sum(tags_data_lists,[])\n",
    "#transfer double list to single list\n",
    "\n",
    "tags_f = Counter(tags_data_list)"
   ]
  },
  {
   "cell_type": "code",
   "execution_count": null,
   "metadata": {},
   "outputs": [],
   "source": []
  }
 ],
 "metadata": {
  "kernelspec": {
   "display_name": "Python 2",
   "language": "python",
   "name": "python2"
  },
  "language_info": {
   "codemirror_mode": {
    "name": "ipython",
    "version": 2
   },
   "file_extension": ".py",
   "mimetype": "text/x-python",
   "name": "python",
   "nbconvert_exporter": "python",
   "pygments_lexer": "ipython2",
   "version": "2.7.10"
  }
 },
 "nbformat": 4,
 "nbformat_minor": 2
}
